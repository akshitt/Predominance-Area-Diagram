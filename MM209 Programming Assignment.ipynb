{
 "cells": [
  {
   "cell_type": "markdown",
   "metadata": {
    "id": "vR_1q75mo4Vv"
   },
   "source": [
    "# Predominance Area Diagram\n",
    "\n",
    "This is done as a programming assignment of MM 209\n",
    "\n",
    "> 180110008 - **Akshit Srivastava** <br/>\n",
    "> 180110060 - **Rathod Hardh Dinesh** <br />\n",
    "> 180110090 - **T Sanjev Vishnu** <br/>"
   ]
  },
  {
   "cell_type": "code",
   "execution_count": 127,
   "metadata": {
    "id": "ZtaZfWbEx3nr"
   },
   "outputs": [],
   "source": [
    "import numpy as np\n",
    "import matplotlib.pyplot as plt"
   ]
  },
  {
   "cell_type": "markdown",
   "metadata": {
    "id": "Lgq6agFGDfgx"
   },
   "source": [
    "Defining the constant R as 8.314"
   ]
  },
  {
   "cell_type": "code",
   "execution_count": 128,
   "metadata": {
    "id": "g4lxr4K2wyOY"
   },
   "outputs": [],
   "source": [
    "R = 8.314"
   ]
  },
  {
   "cell_type": "markdown",
   "metadata": {
    "id": "ST_EFigF2UZ4"
   },
   "source": [
    "### Reaction 5\n",
    "\n",
    "> Zn + 0.5 O<sub>2</sub> = ZnO\n",
    "\n",
    "The function <code>equilibirum_lnpO2_5</code> returns the equilibrium value of **ln p<sub>O<sub>2</sub></sub>** at a particular <code>temperature</code>"
   ]
  },
  {
   "cell_type": "code",
   "execution_count": 129,
   "metadata": {
    "id": "9nLwilBA2SSK"
   },
   "outputs": [],
   "source": [
    "G5_0 = -413495"
   ]
  },
  {
   "cell_type": "code",
   "execution_count": 130,
   "metadata": {
    "id": "HrlX6ic920Up"
   },
   "outputs": [],
   "source": [
    "def delG5(temperature):\n",
    "  T = temperature\n",
    "  G5 = -348276 + 100.505 * T \n",
    "  return G5 "
   ]
  },
  {
   "cell_type": "code",
   "execution_count": 131,
   "metadata": {
    "id": "Ew3bZbgB3GxY"
   },
   "outputs": [],
   "source": [
    "def equilibrium_lnpO2_5(temperature):\n",
    "  lnpO2 = (2 * (G5_0 - delG5(temperature)))/(R*temperature)\n",
    "  return lnpO2"
   ]
  },
  {
   "cell_type": "markdown",
   "metadata": {
    "id": "rYyDC8ag4cDD"
   },
   "source": [
    "### Reaction 6\n",
    "\n",
    "> Zn + SO<sub>2</sub> = ZnS + O<sub>2</sub>\n",
    "\n",
    "The function <code>equilibirum_lnpO2_6</code> returns the equilibrium value of **ln p<sub>O<sub>2</sub></sub>** at a particular <code>temperature</code>"
   ]
  },
  {
   "cell_type": "code",
   "execution_count": 132,
   "metadata": {
    "id": "VZ7e0AFA4t50"
   },
   "outputs": [],
   "source": [
    "G6_0 = 3723"
   ]
  },
  {
   "cell_type": "code",
   "execution_count": 133,
   "metadata": {
    "id": "6NgVvcYf4xjx"
   },
   "outputs": [],
   "source": [
    "def delG6(temperature):\n",
    "  T = temperature\n",
    "  G6 = 90851.4 + 26.973 * T\n",
    "  return G6"
   ]
  },
  {
   "cell_type": "code",
   "execution_count": 134,
   "metadata": {
    "id": "ubJgH26F5AVL"
   },
   "outputs": [],
   "source": [
    "def equilibrium_lnpO2_6(temperature, lnpO2):\n",
    "  lnpSO2 = lnpO2 - (-G6_0 + delG6(temperature))/(R*temperature)\n",
    "  return lnpSO2"
   ]
  },
  {
   "cell_type": "markdown",
   "metadata": {
    "id": "uN-h4Ja-BPaq"
   },
   "source": [
    "### Reaction 2\n",
    "\n",
    "> ZnS + 2 O<sub>2</sub> = ZnSO<sub>4</sub>\n",
    "\n",
    "The function <code>equilibirum_lnpO2_2</code> returns the equilibrium value of **ln p<sub>O<sub>2</sub></sub>** at a particular <code>temperature</code>"
   ]
  },
  {
   "cell_type": "code",
   "execution_count": 135,
   "metadata": {
    "id": "Qnza8Pz1r2RB"
   },
   "outputs": [],
   "source": [
    "G2_0 = -874456 - (-201292.24)"
   ]
  },
  {
   "cell_type": "code",
   "execution_count": 136,
   "metadata": {
    "id": "2apxAfxLw3H3"
   },
   "outputs": [],
   "source": [
    "def delG2(temperature):\n",
    "  T = temperature\n",
    "  G2 = -776844 + 339.765 * T\n",
    "  return G2"
   ]
  },
  {
   "cell_type": "code",
   "execution_count": 137,
   "metadata": {
    "id": "IIBUpI1wxslh"
   },
   "outputs": [],
   "source": [
    "def equilibrium_lnpO2_2(temperature):\n",
    "  lnpO2 = (G2_0 - delG2(temperature) )/ (2*R*temperature)\n",
    "  return lnpO2"
   ]
  },
  {
   "cell_type": "markdown",
   "metadata": {
    "id": "HLfO7w03CSSQ"
   },
   "source": [
    "### Reaction 3\n",
    "\n",
    "> ZnO + SO<sub>2</sub> + 0.5 O<sub>2</sub> = ZnSO<sub>4</sub>\n",
    "\n",
    "The function <code>equilibirum_lnpSO2_3</code> takes input<br/>\n",
    "> <code>temperature</code><br/>\n",
    "> <code>lnpO2</code> which is ln p<sub>O<sub>2</sub></sub> <br/>\n",
    "\n",
    "returns the equilibrium value of \n",
    "**ln p<sub>SO<sub>2</sub></sub>** \n",
    "at a the input conditions"
   ]
  },
  {
   "cell_type": "code",
   "execution_count": 138,
   "metadata": {
    "id": "eBeP7HHztQv0"
   },
   "outputs": [],
   "source": [
    "G3_0 = -874456 - (-300193.632) - (-318318.732)"
   ]
  },
  {
   "cell_type": "code",
   "execution_count": 139,
   "metadata": {
    "id": "sNOICWmi3eA9"
   },
   "outputs": [],
   "source": [
    "def delG3(temperature):\n",
    "  T = temperature\n",
    "  G3 = -337710 + 266.26 * T\n",
    "  return G3"
   ]
  },
  {
   "cell_type": "code",
   "execution_count": 140,
   "metadata": {
    "id": "HWyFRjGf3dti"
   },
   "outputs": [],
   "source": [
    "def equilibrium_lnpSO2_3(temperature, lnpO2):\n",
    "  lnpSO2 = (G3_0 - delG3(temperature))/(R*temperature) - (lnpO2/2)\n",
    "  return lnpSO2"
   ]
  },
  {
   "cell_type": "markdown",
   "metadata": {
    "id": "HJOl1s1Q3iUf"
   },
   "source": [
    "\n",
    "### Reaction 4 \n",
    "> 2 ZnS + 3 O<sub>2</sub> = 2 ZnO + 2 SO<sub>2</sub> \n",
    "\n",
    "The function <code>equilibirum_lnpSO2_3</code> takes input<br/>\n",
    "> <code>temperature</code><br/>\n",
    "> <code>lnpO2</code> which is ln p<sub>O<sub>2</sub></sub> <br/> \n",
    "\n",
    "returns the equilibrium value of **ln p<sub>SO<sub>2</sub></sub>** at a the input conditions"
   ]
  },
  {
   "cell_type": "code",
   "execution_count": 141,
   "metadata": {
    "id": "yfeMp_Ho0U5z"
   },
   "outputs": [],
   "source": [
    "G4_0 = ((-300193.632) + (-318318.732)) - ((-201292.24))"
   ]
  },
  {
   "cell_type": "code",
   "execution_count": 142,
   "metadata": {
    "id": "kE1EZ3lr1NPN"
   },
   "outputs": [],
   "source": [
    "def delG4(temperature):\n",
    "  T = temperature\n",
    "  G4 = -439127 + 73.532 * T\n",
    "  return G4"
   ]
  },
  {
   "cell_type": "code",
   "execution_count": 143,
   "metadata": {
    "id": "Fu0eRv9o1fdn"
   },
   "outputs": [],
   "source": [
    "def equilibrium_lnpSO2_4(temperature, lnpO2):\n",
    "  lnpSO2 = 1.5 * lnpO2 + (-G4_0 + delG4(temperature))/(R * temperature)\n",
    "  return lnpSO2"
   ]
  },
  {
   "cell_type": "markdown",
   "metadata": {
    "id": "-eMoA1SoE4os"
   },
   "source": [
    "## Predominance Area Diagram\n",
    "---\n",
    "The function takes `temperature` as input and plots PAD\n",
    "\n",
    "\n",
    "> First we calculate the equilibrium ln p<sub>O<sub>2</sub></sub> for the reaction 1 and reaction 2 and store it in variables `p1` and `p2` <br/>\n",
    "> Now to plot accordingly, `lnpO2_range` *(the range of ln p<sub>O<sub>2</sub></sub>)* over which ln p<sub>SO<sub>2</sub></sub> is calculated. <br/>\n",
    "> `lnpSO2_range` is calculated by invoking `equilibrium_lnpSO2_3` over the range `lnpO2_range` and specified `temperature` <br/>\n",
    ">> 2 vertical lines of equilibirum are plotted at ln p<sub>O<sub>2</sub></sub> = `p1` and `p2` <br/>\n",
    ">> The equilibrium line which is `lnpO2_range` is plotted against `lnpSO2_range`\n"
   ]
  },
  {
   "cell_type": "code",
   "execution_count": 160,
   "metadata": {
    "id": "i7HeErIU5UmT"
   },
   "outputs": [],
   "source": [
    "def pad(temperature, x_beginning = 0 , x_end = 0, accuracy = 1000):\n",
    "\n",
    "  lnpSO2_range = []\n",
    "  lnpSO2_range2 = []\n",
    "  newgraph = []\n",
    "\n",
    "  p0 = equilibrium_lnpO2_5(temperature)\n",
    "  p1 = equilibrium_lnpO2_2(temperature)\n",
    "\n",
    "  lp = x_beginning\n",
    "  hp = x_end\n",
    "\n",
    "  if lp==0 and hp==0:\n",
    "    lp = p0 -7\n",
    "    hp = p1 +7\n",
    "\n",
    "  lnpO2_range = np.linspace(lp, hp, accuracy)\n",
    "\n",
    "  index = 0\n",
    "  index_ = 0\n",
    "\n",
    "  for lnpO2 in lnpO2_range:\n",
    "    lnpSO2_range.append(equilibrium_lnpSO2_3(temperature, lnpO2))\n",
    "    lnpSO2_range2.append(equilibrium_lnpSO2_4(temperature, lnpO2))\n",
    "    newgraph.append(equilibrium_lnpO2_6(temperature, lnpO2))\n",
    "    if lnpO2 < p1 :\n",
    "      index += 1\n",
    "    if lnpO2 < p0 :\n",
    "      index_ += 1\n",
    "\n",
    "  plt.xlabel(\"ln pO2\")\n",
    "  plt.ylabel(\"ln pSO2\")\n",
    "  plt.title(\"Predominance Area Diagram at \"+str(temperature)+\" K\")  \n",
    "  plt.vlines([p1], ymin = equilibrium_lnpSO2_3(temperature, equilibrium_lnpO2_2(temperature)), ymax= max(max(lnpSO2_range),max(lnpSO2_range2)), color = \"mediumorchid\", ls=\"-\", label = \"ZnS - ZnSO4\")\n",
    "  plt.plot(lnpO2_range[index:], lnpSO2_range[index:], \"-\", color = \"dodgerblue\", label = \"ZnO - ZnSO4\")\n",
    "  plt.plot(lnpO2_range[index_:index], lnpSO2_range2[index_:index], \"-\", color = \"deeppink\", label = \"ZnS - ZnO\")\n",
    "  plt.vlines([p0], ymin = min(min(lnpSO2_range),min(lnpSO2_range2)), ymax= equilibrium_lnpSO2_4(temperature, p0), color = \"lightpink\", ls=\"-\", label = \"Zn - ZnO\")\n",
    "  plt.plot(lnpO2_range[:index_], newgraph[:index_], \"-\", color = \"midnightblue\", label = \"Zn - ZnS\")\n",
    "  plt.legend(bbox_to_anchor=(1.0, 1), loc='upper left')"
   ]
  },
  {
   "cell_type": "markdown",
   "metadata": {
    "id": "-pCRCh25IdOc"
   },
   "source": [
    "# Specify a temperature and call the function to plot the diagram\n",
    "\n",
    "The input variables are `temperature`, `x_beginning`, `x_end`, `accuracy`. The higher the accuracy specified the more continuous the graph is. <br/>\n",
    "\n",
    "`x_beginning` and `x_end` are the range of ln p<sub>O<sub>2</sub></sub> over which you want you the Predominance Area Diagram. Be default it has been set in such a way to give a good visual representation.\n",
    "\n",
    "`accuracy` values lesser than `100` yield unsatisfactory results at the point where the three curves supposedly intersect. <br/>\n",
    "\n",
    "The default value for `accuracy` is set as `1000`. The computational time is large for values greater than `100000`. <br/>\n",
    "\n",
    "`temperature` is mandatory.\n",
    "\n",
    "Here are some example plots with different ranges of pO2 and temperatures"
   ]
  },
  {
   "cell_type": "code",
   "execution_count": 161,
   "metadata": {
    "colab": {
     "base_uri": "https://localhost:8080/",
     "height": 295
    },
    "id": "96VP9OXZC9eE",
    "outputId": "72737440-3784-46cc-85b9-9e3e42d9997d"
   },
   "outputs": [
    {
     "data": {
      "image/png": "[encoded data removed]",
      "text/plain": [
       "<Figure size 432x288 with 1 Axes>"
      ]
     },
     "metadata": {
      "needs_background": "light",
      "tags": []
     },
     "output_type": "display_data"
    }
   ],
   "source": [
    "pad(1000)"
   ]
  },
  {
   "cell_type": "code",
   "execution_count": 162,
   "metadata": {
    "colab": {
     "base_uri": "https://localhost:8080/",
     "height": 295
    },
    "id": "nDqQKeNqXLYL",
    "outputId": "4abb266a-27d6-4f1e-a226-62fcaa31d355"
   },
   "outputs": [
    {
     "data": {
      "image/png": "[encoded data removed]",
      "text/plain": [
       "<Figure size 432x288 with 1 Axes>"
      ]
     },
     "metadata": {
      "needs_background": "light",
      "tags": []
     },
     "output_type": "display_data"
    }
   ],
   "source": [
    "pad(1500, -60, -7)"
   ]
  },
  {
   "cell_type": "code",
   "execution_count": 163,
   "metadata": {
    "colab": {
     "base_uri": "https://localhost:8080/",
     "height": 295
    },
    "id": "FAJrqICkYWz0",
    "outputId": "420f41b4-48f6-4909-bb9e-6543dea5e424"
   },
   "outputs": [
    {
     "data": {
      "image/png": "[encoded data removed]",
      "text/plain": [
       "<Figure size 432x288 with 1 Axes>"
      ]
     },
     "metadata": {
      "needs_background": "light",
      "tags": []
     },
     "output_type": "display_data"
    }
   ],
   "source": [
    "pad(900, x_beginning= -47, x_end = 0)"
   ]
  },
  {
   "cell_type": "code",
   "execution_count": 164,
   "metadata": {
    "colab": {
     "base_uri": "https://localhost:8080/",
     "height": 295
    },
    "id": "B0EpyMhdZk6a",
    "outputId": "ef3a2722-6af8-48df-ea82-446ce4c15eeb"
   },
   "outputs": [
    {
     "data": {
      "image/png": "[encoded data removed]",
      "text/plain": [
       "<Figure size 432x288 with 1 Axes>"
      ]
     },
     "metadata": {
      "needs_background": "light",
      "tags": []
     },
     "output_type": "display_data"
    }
   ],
   "source": [
    "pad(1200)"
   ]
  }
 ],
 "metadata": {
  "colab": {
   "collapsed_sections": [],
   "name": "Programming_Assignment_MM209_180110090_180110060_18011000.ipynb",
   "provenance": []
  },
  "kernelspec": {
   "display_name": "Python 3",
   "language": "python",
   "name": "python3"
  },
  "language_info": {
   "codemirror_mode": {
    "name": "ipython",
    "version": 3
   },
   "file_extension": ".py",
   "mimetype": "text/x-python",
   "name": "python",
   "nbconvert_exporter": "python",
   "pygments_lexer": "ipython3",
   "version": "3.7.7"
  }
 },
 "nbformat": 4,
 "nbformat_minor": 1
}
